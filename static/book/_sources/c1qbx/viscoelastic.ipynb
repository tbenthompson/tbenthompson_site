{
 "cells": [
  {
   "cell_type": "markdown",
   "id": "2a56ad9b",
   "metadata": {},
   "source": [
    "# [DRAFT] Viscoelasticity\n",
    "\n",
    "## TODO-list\n",
    "\n",
    "* Figure out how to handle the divergence of stress term. To calculate that directly would require a higher order boundary integral operator. That should be feasible... \n",
    "\n",
    "## Summary\n",
    "\n",
    "A starting point:\n",
    "\n",
    "* Only works when the viscoelastic region is a decent distance away from the free surface. \n",
    "* For a problem like this where we are solving for surface displacement, it should be okay for the viscoelastic region to overlap the fault. However, if we solve for fault stress like in a QD model, then some more work will be necessary to handle when the observation point is inside the body force region."
   ]
  },
  {
   "cell_type": "markdown",
   "id": "197beb01",
   "metadata": {},
   "source": [
    "## Derivation\n",
    "\n",
    "Let's start from the constitutive equation for elasticity and the constitutive equation for a Maxwell rheology. We'll do this in full 3D complexity and then reduce to plane-strain later.\n",
    "\n",
    "$$\\textrm{Elastic:  }~~ \\sigma_{ij} = 2\\mu\\epsilon_{ij} + \\lambda\\epsilon_{kk}\\delta_{ij}$$\n",
    "$$\\textrm{Maxwell:  }~~ \\dot{\\sigma}_{ij} + \\frac{\\mu}{\\eta}(\\sigma_{ij} - \\frac{\\sigma_{kk}}{3}\\delta_{ij}) = 2\\mu\\dot{\\epsilon}_{ij} + \\lambda\\dot{\\epsilon}_{kk}\\delta_{ij}$$\n",
    "\n",
    "And Newton's law:\n",
    "\n",
    "$$ \\sum_j \\frac{\\partial \\sigma_{ij}}{\\partial x_j} = f_i $$\n",
    "\n",
    "So, for an elastic rheology:\n",
    "\n",
    "$$ \\sum_j \\frac{\\partial [2\\mu\\epsilon_{ij} + \\lambda\\epsilon_{kk}\\delta_{ij}]}{\\partial x_j} = f_i $$\n",
    "\n",
    "For a viscoelastic rheology, remembering the time derivative: $\\dot{\\sigma}_{ij}$:\n",
    "\n",
    "$$ \\sum_j \\frac{\\partial \\big[2\\mu\\dot{\\epsilon}_{ij} + \\lambda\\dot{\\epsilon}_{kk}\\delta_{ij} - [\\frac{\\mu}{\\eta}(\\sigma_{ij} - \\frac{\\sigma_{kk}}{3}\\delta_{ij})]\\big]}{\\partial x_j} = \\dot{f}_i $$\n",
    "\n",
    "Rearranging the viscoelastic equation: \n",
    "\n",
    "$$ \\sum_j \\frac{\\partial \\big[2\\mu\\dot{\\epsilon}_{ij} + \\lambda\\dot{\\epsilon}_{kk}\\delta_{ij}\\big]}{\\partial x_j} = \\dot{f}_i  + \\sum_j \\frac{\\partial[\\frac{\\mu}{\\eta}(\\sigma_{ij} - \\frac{\\sigma_{kk}}{3}\\delta_{ij})]}{\\partial x_j} $$\n",
    "\n",
    "Rewriting the right hand side as $F_i$, we see that this is an elastic problem with a funny body force:\n",
    "\n",
    "$$ \\textrm{\"Elastic-like\": }~~ \\sum_j \\frac{\\partial \\big[2\\mu\\dot{\\epsilon}_{ij} + \\lambda\\dot{\\epsilon}_{kk}\\delta_{ij}\\big]}{\\partial x_j} = F_i$$\n",
    "$$ \\textrm{\"Viscoelastic body force\": }~~ F_i = \\dot{f}_i + \\sum_j \\frac{\\partial[\\frac{\\mu}{\\eta}(\\sigma_{ij} - \\frac{\\sigma_{kk}}{3}\\delta_{ij})]}{\\partial x_j} $$\n",
    "\n",
    "It's important to notice that in the main \"Elastic-like\" equation, we are operating in terms of velocity/strain-rate/stressing-rate because the whole equation has had a time derivative applied."
   ]
  },
  {
   "cell_type": "markdown",
   "id": "f6ab86d9",
   "metadata": {},
   "source": [
    "## Integrating in time\n",
    "So, how do we solve this? I see two broad ways depending on where we would prefer to do the time integration. \n",
    "\n",
    "1. Compute velocities and stressing rates at each time step and then integrate those to obtain displacement and stress. \n",
    "2. Integrate the \"Elastic-like\" equation analytically (trivial, since it just involves removing some dots), so that we can solve directly for displacement and stress then do a time integration to compute the current viscoelastic body force. \n",
    "\n",
    "I think method #2 is likely to be more accurate and stable simply because it involves lower order derivatives. Instead of integrating stressing rate in time to get stress, we are integrating stress in time to get the total viscoelastic body force. To do this, let's define:\n",
    "\n",
    "$$ V_i = \\int_{0}^{t} \\sum_j \\frac{\\partial[\\frac{\\mu}{\\eta}(\\sigma_{ij} - \\frac{\\sigma_{kk}}{3}\\delta_{ij})]}{\\partial x_j} dt $$\n",
    "\n",
    "and rearrange this to involve a time step:\n",
    "\n",
    "$$ V^{n+1}_i = V^{n}_i + \\int_{t^n}^{t^{n+1}} \\sum_j \\frac{\\partial[\\frac{\\mu}{\\eta}(\\sigma_{ij} - \\frac{\\sigma_{kk}}{3}\\delta_{ij})]}{\\partial x_j} dt$$\n",
    "\n",
    "Returning to the main law of motion:\n",
    "\n",
    "$$\\sum_j \\frac{\\partial \\sigma_{ij}^{n}}{\\partial x_j} = f^{n}_i + V^{n}_i$$\n",
    "\n",
    "So, what's the final solution procedure?\n",
    "\n",
    "1. Given a viscoelastic \"body force\", $V_i^n$, use standard techniques to solve for stress, $\\sigma_{ij}^n$, and displacement $u_i^n$.\n",
    "2. Now, integrate the time step equation above to get $V_i^{n+1}$.\n",
    "3. Repeat."
   ]
  },
  {
   "cell_type": "markdown",
   "id": "bcfef4b9",
   "metadata": {},
   "source": [
    "## Simplify for antiplane strain\n",
    "\n",
    "For antiplane shear, the stress is dramatically simplified, such that we really only care about a vector stress like: \n",
    "\\begin{equation}\n",
    "\\sigma_z = (\\sigma_{xz}, \\sigma_{yz})\n",
    "\\end{equation}\n",
    "\n",
    "and the viscoelastic body force term simplfies to:\n",
    " \n",
    "\\begin{equation}\n",
    "V_z = \\int_{0}^{t} \\frac{\\mu}{\\eta}(\\frac{\\partial \\sigma_{xy}}{\\partial y} + \\frac{\\partial \\sigma_{xz}}{\\partial z}) dt\n",
    "\\end{equation}"
   ]
  },
  {
   "cell_type": "code",
   "execution_count": null,
   "id": "d96ab319",
   "metadata": {},
   "outputs": [],
   "source": [
    "import numpy as np\n",
    "import matplotlib.pyplot as plt\n",
    "from common import gauss_rule, double_layer_matrix, qbx_choose_centers, qbx_expand_matrix, qbx_eval_matrix"
   ]
  },
  {
   "cell_type": "code",
   "execution_count": null,
   "id": "3ff4bdb5",
   "metadata": {},
   "outputs": [],
   "source": [
    "import sympy as sp"
   ]
  },
  {
   "cell_type": "code",
   "execution_count": null,
   "id": "e681ea39",
   "metadata": {},
   "outputs": [],
   "source": [
    "fault_depth = 0.5\n",
    "def fault_fnc(q):\n",
    "    return 0*q, q - 1 - fault_depth, -np.ones_like(q), 0*q, 1.0"
   ]
  },
  {
   "cell_type": "code",
   "execution_count": null,
   "id": "0ec6f04a",
   "metadata": {},
   "outputs": [],
   "source": [
    "surf_L = 10\n",
    "def flat_fnc(q):\n",
    "    return surf_L*q, 0*q, 0*q, np.ones_like(q), surf_L"
   ]
  },
  {
   "cell_type": "code",
   "execution_count": null,
   "id": "14175847",
   "metadata": {},
   "outputs": [],
   "source": [
    "def slip_fnc(xhat):\n",
    "    # This must be zero at the endpoints!\n",
    "    return np.where(\n",
    "        xhat < -0.9, \n",
    "        (1.0 + xhat) * 10,\n",
    "        np.where(xhat < 0.9, \n",
    "                 1.0,\n",
    "                 (1.0 - xhat) * 10\n",
    "                )\n",
    "    )"
   ]
  },
  {
   "cell_type": "code",
   "execution_count": null,
   "id": "804abf85",
   "metadata": {},
   "outputs": [],
   "source": [
    "plt.plot(slip_fnc(np.linspace(-1, 1, 100)))"
   ]
  },
  {
   "cell_type": "code",
   "execution_count": null,
   "id": "ebfc4e19",
   "metadata": {},
   "outputs": [],
   "source": [
    "qr_fault = gauss_rule(50)\n",
    "fault = fault_fnc(qr_fault[0])"
   ]
  },
  {
   "cell_type": "code",
   "execution_count": null,
   "id": "b6064bb9",
   "metadata": {},
   "outputs": [],
   "source": [
    "qr_flat = gauss_rule(2500)\n",
    "flat = flat_fnc(qr_flat[0])"
   ]
  },
  {
   "cell_type": "code",
   "execution_count": null,
   "id": "e52c0900",
   "metadata": {},
   "outputs": [],
   "source": [
    "qbx_p = 5\n",
    "qbx_center_x, qbx_center_y, qbx_r = qbx_choose_centers(flat, qr_flat)\n",
    "qbx_expand_flat = qbx_expand_matrix(double_layer_matrix, flat, qr_flat, qbx_center_x, qbx_center_y, qbx_r, qbx_p=qbx_p)\n",
    "qbx_eval_flat = qbx_eval_matrix(flat[0][None,:], flat[1][None,:], qbx_center_x, qbx_center_y, qbx_p=qbx_p)[0]\n",
    "A = np.real(np.sum(qbx_eval_flat[:,:,None] * qbx_expand_flat, axis=1))"
   ]
  },
  {
   "cell_type": "code",
   "execution_count": null,
   "id": "0aa301db",
   "metadata": {},
   "outputs": [],
   "source": [
    "B = double_layer_matrix(fault, qr_fault, flat[0], flat[1])\n",
    "slip = slip_fnc(qr_fault[0])\n",
    "v = B.dot(slip)"
   ]
  },
  {
   "cell_type": "code",
   "execution_count": null,
   "id": "a210813d",
   "metadata": {},
   "outputs": [],
   "source": [
    "surf_disp = np.linalg.solve(A - 0.5 * np.eye(A.shape[0]), v)"
   ]
  },
  {
   "cell_type": "code",
   "execution_count": null,
   "id": "ac85ef93",
   "metadata": {},
   "outputs": [],
   "source": [
    "plt.plot(surf_disp)\n",
    "plt.show()"
   ]
  },
  {
   "cell_type": "code",
   "execution_count": null,
   "id": "b5f5cce7",
   "metadata": {},
   "outputs": [],
   "source": [
    "nobs = 100\n",
    "zoomx = [-2.5, 2.5]\n",
    "zoomy = [-5.1, -0.1]\n",
    "# zoomx = [-25, 25]\n",
    "# zoomy = [-45, 5]\n",
    "xs = np.linspace(*zoomx, nobs)\n",
    "ys = np.linspace(*zoomy, nobs)\n",
    "obsx, obsy = np.meshgrid(xs, ys)\n",
    "\n",
    "disp_flat = double_layer_matrix(\n",
    "    surface   = flat,\n",
    "    obsx      = obsx.flatten(), \n",
    "    obsy      = obsy.flatten(),\n",
    "    quad_rule = qr_flat\n",
    ").dot(surf_disp).reshape(obsx.shape)\n",
    "disp_fault = double_layer_matrix(\n",
    "    surface   = fault,\n",
    "    obsx      = obsx.flatten(), \n",
    "    obsy      = obsy.flatten(),\n",
    "    quad_rule = qr_fault\n",
    ").dot(slip).reshape(obsx.shape)\n",
    "disp_full = disp_flat + disp_fault\n",
    "\n",
    "levels = np.linspace(-0.5,0.5,21)\n",
    "cntf = plt.contourf(obsx, obsy, disp_full, levels = levels, extend=\"both\")\n",
    "plt.contour(obsx, obsy, disp_full, colors='k', linestyles='-', linewidths=0.5, levels = levels, extend=\"both\")\n",
    "plt.plot(flat[0], flat[1], 'k-', linewidth=1.5)\n",
    "plt.plot(fault[0], fault[1], 'k-', linewidth=1.5)\n",
    "plt.colorbar(cntf)\n",
    "plt.xlim(zoomx)\n",
    "plt.ylim(zoomy)\n",
    "plt.show()"
   ]
  },
  {
   "cell_type": "code",
   "execution_count": null,
   "id": "a3148741",
   "metadata": {},
   "outputs": [],
   "source": []
  }
 ],
 "metadata": {
  "jupytext": {
   "formats": "ipynb,md:myst",
   "text_representation": {
    "extension": ".md",
    "format_name": "myst",
    "format_version": 0.13,
    "jupytext_version": "1.10.3"
   }
  },
  "kernelspec": {
   "display_name": "Python 3",
   "language": "python",
   "name": "python3"
  },
  "source_map": [
   13,
   28,
   60,
   86,
   101,
   107,
   111,
   117,
   123,
   136,
   140,
   145,
   150,
   158,
   164,
   168,
   173,
   208
  ]
 },
 "nbformat": 4,
 "nbformat_minor": 5
}