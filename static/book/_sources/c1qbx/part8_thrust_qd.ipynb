{
 "cells": [
  {
   "cell_type": "markdown",
   "id": "cee56f5b",
   "metadata": {},
   "source": [
    "[SCEC BP3-QD](https://strike.scec.org/cvws/seas/download/SEAS_BP3.pdf) document is here."
   ]
  },
  {
   "cell_type": "markdown",
   "id": "af321fc4",
   "metadata": {},
   "source": [
    "# [DRAFT] Quasidynamic thrust fault earthquake cycles (plane strain)\n",
    "\n",
    "## Summary\n",
    "\n",
    "* Most of the code here follows almost exactly from [the previous section on strike-slip/antiplane earthquake cycles](c1qbx/part6_qd).\n",
    "* Since the fault motion is in the same plane as the fault normal vectors, we are no longer operating in an antiplane approximation. Instead, we use plane strain elasticity, a different 2D reduction of full 3D elasticity.\n",
    "* One key difference is the vector nature of the displacement and the tensor nature of the stress. We must always make sure we are dealing with tractions on the correct surface. \n",
    "* We construct a mesh, build our discrete boundary integral operators, step through time and then compare against other benchmark participants' results. \n",
    "\n",
    "Does this section need detailed explanation or is it best left as lonely code? Most of the explanation would be redundant with the antiplane QD document."
   ]
  },
  {
   "cell_type": "code",
   "execution_count": 1,
   "id": "a209af88",
   "metadata": {
    "tags": [
     "remove-cell"
    ]
   },
   "outputs": [],
   "source": [
    "from tectosaur2.nb_config import setup\n",
    "\n",
    "setup()"
   ]
  },
  {
   "cell_type": "code",
   "execution_count": 2,
   "id": "f23c17ca",
   "metadata": {},
   "outputs": [],
   "source": [
    "import sympy as sp\n",
    "import numpy as np\n",
    "import matplotlib.pyplot as plt\n",
    "from tectosaur2 import gauss_rule, refine_surfaces, integrate_term, panelize_symbolic_surface\n",
    "from tectosaur2.elastic2d import elastic_t, elastic_h\n",
    "from tectosaur2.rate_state import MaterialProps, qd_equation, solve_friction, aging_law"
   ]
  },
  {
   "cell_type": "code",
   "execution_count": 3,
   "id": "7029bcda",
   "metadata": {},
   "outputs": [
    {
     "name": "stdout",
     "output_type": "stream",
     "text": [
      "The free surface mesh has 218 panels with a total of 1308 points.\n",
      "The fault mesh has 100 panels with a total of 600 points.\n"
     ]
    }
   ],
   "source": [
    "surf_half_L = 1000000\n",
    "fault_length = 40000\n",
    "max_panel_length = 400\n",
    "n_fault = 400\n",
    "max_panel_length = 1600\n",
    "n_fault = 100\n",
    "mu = shear_modulus = 3.2e10\n",
    "nu = 0.25\n",
    "\n",
    "quad_rule = gauss_rule(6)\n",
    "sp_t = sp.var(\"t\")\n",
    "\n",
    "angle_rad = sp.pi / 6\n",
    "sp_x = (sp_t + 1) / 2 * sp.cos(angle_rad) * fault_length\n",
    "sp_y = -(sp_t + 1) / 2 * sp.sin(angle_rad) * fault_length\n",
    "fault = panelize_symbolic_surface(\n",
    "    sp_t, sp_x, sp_y,\n",
    "    quad_rule,\n",
    "    n_panels=n_fault\n",
    ")\n",
    "\n",
    "free = refine_surfaces(\n",
    "    [\n",
    "        (sp_t, -sp_t * surf_half_L, 0 * sp_t)  # free surface\n",
    "    ],\n",
    "    quad_rule,\n",
    "    control_points = [\n",
    "        # nearfield surface panels and fault panels will be limited to 200m\n",
    "        # at 200m per panel, we have ~40m per solution node because the panels\n",
    "        # have 5 nodes each\n",
    "        (0, 0, 1.5 * fault_length, max_panel_length),\n",
    "        (0, 0, 0.2 * fault_length, 1.5 * fault_length / (n_fault)),\n",
    "        # farfield panels will be limited to 200000 m per panel at most\n",
    "        (0, 0, surf_half_L, 50000),\n",
    "    ]\n",
    ")\n",
    "print(\n",
    "    f\"The free surface mesh has {free.n_panels} panels with a total of {free.n_pts} points.\"\n",
    ")\n",
    "print(\n",
    "    f\"The fault mesh has {fault.n_panels} panels with a total of {fault.n_pts} points.\"\n",
    ")"
   ]
  },
  {
   "cell_type": "code",
   "execution_count": 4,
   "id": "651b7f2f",
   "metadata": {},
   "outputs": [
    {
     "data": {
      "image/png": "[encoded data removed]",
      "text/plain": [
       "<Figure size 432x288 with 1 Axes>"
      ]
     },
     "metadata": {
      "image/png": {
       "height": 230,
       "width": 417
      }
     },
     "output_type": "display_data"
    }
   ],
   "source": [
    "plt.plot(free.pts[:,0]/1000, free.pts[:,1]/1000, 'k-o')\n",
    "plt.plot(fault.pts[:,0]/1000, fault.pts[:,1]/1000, 'r-o')\n",
    "plt.xlabel(r'$x ~ \\mathrm{(km)}$')\n",
    "plt.ylabel(r'$y ~ \\mathrm{(km)}$')\n",
    "plt.axis('scaled')\n",
    "plt.xlim([-100, 100])\n",
    "plt.ylim([-80, 20])\n",
    "plt.show()"
   ]
  },
  {
   "cell_type": "markdown",
   "id": "92e2eac3",
   "metadata": {},
   "source": [
    "And, to start off the integration, we'll construct the operators necessary for solving for free surface displacement from fault slip."
   ]
  },
  {
   "cell_type": "code",
   "execution_count": 5,
   "id": "3cdf4ba2",
   "metadata": {},
   "outputs": [],
   "source": [
    "singularities = np.array(\n",
    "    [\n",
    "        [-surf_half_L, 0],\n",
    "        [surf_half_L, 0],\n",
    "        [0, 0],\n",
    "        [float(sp_x.subs(sp_t,1)), float(sp_y.subs(sp_t,1))],\n",
    "    ]\n",
    ")"
   ]
  },
  {
   "cell_type": "code",
   "execution_count": 6,
   "id": "4a0a3c05",
   "metadata": {},
   "outputs": [
    {
     "name": "stderr",
     "output_type": "stream",
     "text": [
      "/Users/tbent/Dropbox/active/eq/tectosaur2/tectosaur2/integrate.py:201: UserWarning: Some integrals failed to converge during adaptive integration. This an indication of a problem in either the integration or the problem formulation.\n",
      "  warnings.warn(\n"
     ]
    }
   ],
   "source": [
    "(free_disp_to_free_disp, fault_slip_to_free_disp), report = integrate_term(\n",
    "    elastic_t(nu), free.pts, free, fault, singularities=singularities, safety_mode=True, return_report=True\n",
    ")"
   ]
  },
  {
   "cell_type": "code",
   "execution_count": 7,
   "id": "c6b4c74c",
   "metadata": {},
   "outputs": [],
   "source": [
    "fault_slip_to_free_disp = fault_slip_to_free_disp.reshape((-1, 2 * fault.n_pts))\n",
    "free_disp_to_free_disp = free_disp_to_free_disp.reshape((-1, 2 * free.n_pts))\n",
    "free_disp_solve_mat = (\n",
    "    np.eye(free_disp_to_free_disp.shape[0]) + free_disp_to_free_disp\n",
    ")"
   ]
  },
  {
   "cell_type": "code",
   "execution_count": 8,
   "id": "eb303eda",
   "metadata": {},
   "outputs": [],
   "source": [
    "from tectosaur2.elastic2d import ElasticH\n",
    "\n",
    "(free_disp_to_fault_stress, fault_slip_to_fault_stress), report = integrate_term(\n",
    "    ElasticH(nu, d_cutoff=8.0),\n",
    "    # elastic_h(nu),\n",
    "    fault.pts,\n",
    "    free,\n",
    "    fault,\n",
    "    tol=1e-12,\n",
    "    safety_mode=True,\n",
    "    singularities=singularities,\n",
    "    return_report=True,\n",
    ")\n",
    "fault_slip_to_fault_stress *= shear_modulus\n",
    "free_disp_to_fault_stress *= shear_modulus"
   ]
  },
  {
   "cell_type": "code",
   "execution_count": null,
   "id": "7cdf6b81",
   "metadata": {},
   "outputs": [],
   "source": [
    "A = -fault_slip_to_fault_stress.reshape((-1, 2 * fault.n_pts))\n",
    "B = -free_disp_to_fault_stress.reshape((-1, 2 * free.n_pts))\n",
    "C = fault_slip_to_free_disp\n",
    "Dinv = np.linalg.inv(free_disp_solve_mat)\n",
    "total_fault_slip_to_fault_stress = A - B.dot(Dinv.dot(C))\n",
    "\n",
    "nx = fault.normals[:, 0]\n",
    "ny = fault.normals[:, 1]\n",
    "normal_mult = np.transpose(np.array([[nx, 0 * nx, ny], [0 * nx, ny, nx]]), (2, 0, 1))\n",
    "\n",
    "total_fault_slip_to_fault_traction = np.sum(\n",
    "    total_fault_slip_to_fault_stress.reshape((-1, 3, fault.n_pts, 2))[:, None, :, :, :]\n",
    "    * normal_mult[:, :, :, None, None],\n",
    "    axis=2,\n",
    ").reshape((-1, 2 * fault.n_pts))"
   ]
  },
  {
   "cell_type": "markdown",
   "id": "6449df04",
   "metadata": {},
   "source": [
    "## Rate and state friction"
   ]
  },
  {
   "cell_type": "code",
   "execution_count": null,
   "id": "16e2c512",
   "metadata": {},
   "outputs": [],
   "source": [
    "siay = 31556952  # seconds in a year\n",
    "density = 2670  # rock density (kg/m^3)\n",
    "cs = np.sqrt(shear_modulus / density)  # Shear wave speed (m/s)\n",
    "Vp = 1e-9  # Rate of plate motion\n",
    "sigma_n0 = 50e6  # Normal stress (Pa)\n",
    "\n",
    "# parameters describing \"a\", the coefficient of the direct velocity strengthening effect\n",
    "a0 = 0.01\n",
    "amax = 0.025\n",
    "H = 15000\n",
    "h = 3000\n",
    "fx = fault.pts[:, 0]\n",
    "fy = fault.pts[:, 1]\n",
    "fd = -np.sqrt(fx ** 2 + fy ** 2)\n",
    "a = np.where(\n",
    "    fd > -H, a0, np.where(fd > -(H + h), a0 + (amax - a0) * (fd + H) / -h, amax)\n",
    ")\n",
    "\n",
    "mp = MaterialProps(a=a, b=0.015, Dc=0.008, f0=0.6, V0=1e-6, eta=shear_modulus / (2 * cs))"
   ]
  },
  {
   "cell_type": "code",
   "execution_count": null,
   "id": "d81cea31",
   "metadata": {},
   "outputs": [],
   "source": [
    "plt.figure(figsize=(3, 5))\n",
    "plt.plot(mp.a, fd/1000, label='a')\n",
    "plt.plot(np.full(fy.shape[0], mp.b), fd/1000, label='b')\n",
    "plt.xlim([0, 0.03])\n",
    "plt.ylabel('depth')\n",
    "plt.legend()\n",
    "plt.show()"
   ]
  },
  {
   "cell_type": "code",
   "execution_count": null,
   "id": "eeea5ef4",
   "metadata": {},
   "outputs": [],
   "source": [
    "mesh_L = np.max(np.abs(np.diff(fd)))\n",
    "Lb = shear_modulus * mp.Dc / (sigma_n0 * mp.b)\n",
    "hstar = (np.pi * shear_modulus * mp.Dc) / (sigma_n0 * (mp.b - mp.a))\n",
    "mesh_L, Lb, np.min(hstar[hstar > 0])"
   ]
  },
  {
   "cell_type": "markdown",
   "id": "2804bbde",
   "metadata": {},
   "source": [
    "## Quasidynamic earthquake cycle derivatives"
   ]
  },
  {
   "cell_type": "code",
   "execution_count": null,
   "id": "4e8d9d68",
   "metadata": {},
   "outputs": [],
   "source": [
    "from scipy.optimize import fsolve\n",
    "import copy\n",
    "\n",
    "init_state_scalar = fsolve(lambda S: aging_law(mp, Vp, S), 0.7)[0]\n",
    "mp_amax = copy.copy(mp)\n",
    "mp_amax.a=amax\n",
    "tau_amax = -qd_equation(mp_amax, sigma_n0, 0, Vp, init_state_scalar)\n",
    "init_state = np.log((2*mp.V0/Vp)*np.sinh((tau_amax - mp.eta*Vp) / (mp.a*sigma_n0))) * mp.a\n",
    "\n",
    "init_tau = np.full(fault.n_pts, tau_amax)\n",
    "init_sigma = np.full(fault.n_pts, sigma_n0)\n",
    "init_slip_deficit = np.zeros(fault.n_pts)\n",
    "init_conditions = np.concatenate((init_slip_deficit, init_state))"
   ]
  },
  {
   "cell_type": "code",
   "execution_count": null,
   "id": "81605f71",
   "metadata": {},
   "outputs": [],
   "source": [
    "class SystemState:\n",
    "\n",
    "    V_old = np.full(fault.n_pts, Vp)\n",
    "    state = None\n",
    "\n",
    "    def calc(self, t, y, verbose=False):\n",
    "        # Separate the slip_deficit and state sub components of the\n",
    "        # time integration state.\n",
    "        slip_deficit = y[: init_slip_deficit.shape[0]]\n",
    "        state = y[init_slip_deficit.shape[0] :]\n",
    "\n",
    "        # If the state values are bad, then the adaptive integrator probably\n",
    "        # took a bad step.\n",
    "        if np.any((state < 0) | (state > 2.0)):\n",
    "            print(\"bad state\")\n",
    "            return False\n",
    "\n",
    "        # The big three lines solving for quasistatic shear stress, slip rate\n",
    "        # and state evolution\n",
    "        sd_vector = np.stack((slip_deficit * -ny, slip_deficit * nx), axis=1).ravel()\n",
    "        traction = total_fault_slip_to_fault_traction.dot(sd_vector).reshape((-1, 2))\n",
    "        delta_sigma_qs = np.sum(traction * np.stack((nx, ny), axis=1), axis=1)\n",
    "        delta_tau_qs = -np.sum(traction * np.stack((-ny, nx), axis=1), axis=1)\n",
    "        tau_qs = init_tau + delta_tau_qs\n",
    "        sigma_qs = init_sigma + delta_sigma_qs\n",
    "\n",
    "        V = solve_friction(mp, sigma_qs, tau_qs, self.V_old, state)\n",
    "        if not V[2]:\n",
    "            print(\"convergence failed\")\n",
    "            return False\n",
    "\n",
    "        V=V[0]\n",
    "        if not np.all(np.isfinite(V)):\n",
    "            print(\"infinite V\")\n",
    "            return False\n",
    "        dstatedt = aging_law(mp, V, state)\n",
    "        self.V_old = V\n",
    "\n",
    "        slip_deficit_rate = Vp - V\n",
    "        out = (\n",
    "            slip_deficit,\n",
    "            state,\n",
    "            delta_sigma_qs,\n",
    "            sigma_qs,\n",
    "            delta_tau_qs,\n",
    "            tau_qs,\n",
    "            V,\n",
    "            slip_deficit_rate,\n",
    "            dstatedt,\n",
    "        )\n",
    "        self.data = out\n",
    "        return self.data"
   ]
  },
  {
   "cell_type": "code",
   "execution_count": null,
   "id": "4e920626",
   "metadata": {},
   "outputs": [],
   "source": [
    "def plot_system_state(t, SS, xlim=None):\n",
    "    \"\"\"This is just a helper function that creates some rough plots of the\n",
    "    current state to help with debugging\"\"\"\n",
    "    (\n",
    "        slip_deficit,\n",
    "        state,\n",
    "        delta_sigma_qs,\n",
    "        sigma_qs,\n",
    "        delta_tau_qs,\n",
    "        tau_qs,\n",
    "        V,\n",
    "        slip_deficit_rate,\n",
    "        dstatedt,\n",
    "    ) = SS\n",
    "\n",
    "    slip = Vp * t - slip_deficit\n",
    "\n",
    "    fd = -np.linalg.norm(fault.pts, axis=1)\n",
    "\n",
    "    plt.figure(figsize=(15, 9))\n",
    "    plt.suptitle(f\"t={t/siay}\")\n",
    "    plt.subplot(3, 3, 1)\n",
    "    plt.title(\"slip\")\n",
    "    plt.plot(fd, slip)\n",
    "    plt.xlim(xlim)\n",
    "\n",
    "    plt.subplot(3, 3, 2)\n",
    "    plt.title(\"slip deficit\")\n",
    "    plt.plot(fd, slip_deficit)\n",
    "    plt.xlim(xlim)\n",
    "\n",
    "    # plt.subplot(3, 3, 2)\n",
    "    # plt.title(\"slip deficit rate\")\n",
    "    # plt.plot(fd, slip_deficit_rate)\n",
    "    # plt.xlim(xlim)\n",
    "\n",
    "    # plt.subplot(3, 3, 2)\n",
    "    # plt.title(\"strength\")\n",
    "    # plt.plot(fd, tau_qs/sigma_qs)\n",
    "    # plt.xlim(xlim)\n",
    "\n",
    "    plt.subplot(3, 3, 3)\n",
    "    # plt.title(\"log V\")\n",
    "    # plt.plot(fd, np.log10(V))\n",
    "    plt.title(\"V\")\n",
    "    plt.plot(fd, V)\n",
    "    plt.xlim(xlim)\n",
    "\n",
    "    plt.subplot(3, 3, 4)\n",
    "    plt.title(r\"$\\sigma_{qs}$\")\n",
    "    plt.plot(fd, sigma_qs)\n",
    "    plt.xlim(xlim)\n",
    "\n",
    "    plt.subplot(3, 3, 5)\n",
    "    plt.title(r\"$\\tau_{qs}$\")\n",
    "    plt.plot(fd, tau_qs, 'k-o')\n",
    "    plt.xlim(xlim)\n",
    "\n",
    "    plt.subplot(3, 3, 6)\n",
    "    plt.title(\"state\")\n",
    "    plt.plot(fd, state)\n",
    "    plt.xlim(xlim)\n",
    "\n",
    "    plt.subplot(3, 3, 7)\n",
    "    plt.title(r\"$\\Delta\\sigma_{qs}$\")\n",
    "    plt.plot(fd, delta_sigma_qs)\n",
    "    plt.hlines([0], [fd[-1]], [fd[0]])\n",
    "    plt.xlim(xlim)\n",
    "\n",
    "    plt.subplot(3, 3, 8)\n",
    "    plt.title(r\"$\\Delta\\tau_{qs}$\")\n",
    "    plt.plot(fd, delta_tau_qs)\n",
    "    plt.hlines([0], [fd[-1]], [fd[0]])\n",
    "    plt.xlim(xlim)\n",
    "\n",
    "    plt.subplot(3, 3, 9)\n",
    "    plt.title(\"dstatedt\")\n",
    "    plt.plot(fd, dstatedt)\n",
    "    plt.xlim(xlim)\n",
    "    plt.tight_layout()\n",
    "\n",
    "    plt.show()"
   ]
  },
  {
   "cell_type": "code",
   "execution_count": null,
   "id": "e28fe96e",
   "metadata": {},
   "outputs": [],
   "source": [
    "def calc_derivatives(state, t, y):\n",
    "    \"\"\"\n",
    "    This helper function calculates the system state and then extracts the\n",
    "    relevant derivatives that the integrator needs. It also intentionally\n",
    "    returns infinite derivatives when the `y` vector provided by the integrator\n",
    "    is invalid.\n",
    "    \"\"\"\n",
    "    if not np.all(np.isfinite(y)):\n",
    "        return np.inf * y\n",
    "    state_vecs = state.calc(t, y)\n",
    "    if not state_vecs:\n",
    "        return np.inf * y\n",
    "    derivatives = np.concatenate((state_vecs[-2], state_vecs[-1]))\n",
    "    return derivatives"
   ]
  },
  {
   "cell_type": "markdown",
   "id": "6f909157",
   "metadata": {},
   "source": [
    "## Integrating through time"
   ]
  },
  {
   "cell_type": "code",
   "execution_count": null,
   "id": "34374f85",
   "metadata": {},
   "outputs": [],
   "source": [
    "%%time\n",
    "from scipy.integrate import RK23, RK45\n",
    "\n",
    "# We use a 5th order adaptive Runge Kutta method and pass the derivative function to it\n",
    "# the relative tolerance will be 1e-11 to make sure that even\n",
    "state = SystemState()\n",
    "derivs = lambda t, y: calc_derivatives(state, t, y)\n",
    "integrator = RK45\n",
    "atol = Vp * 1e-6\n",
    "rtol = 1e-11\n",
    "rk = integrator(derivs, 0, init_conditions, 1e50, atol=atol, rtol=rtol)\n",
    "\n",
    "# Set the initial time step to one day.\n",
    "rk.h_abs = 60 * 60 * 24\n",
    "\n",
    "# Integrate for 1000 years.\n",
    "max_T = 1000 * siay\n",
    "\n",
    "n_steps = 50000\n",
    "t_history = [0]\n",
    "y_history = [init_conditions.copy()]\n",
    "for i in range(n_steps):\n",
    "    # Take a time step and store the result\n",
    "    if rk.step() != None:\n",
    "        raise Exception(\"TIME STEPPING FAILED\")\n",
    "    t_history.append(rk.t)\n",
    "    y_history.append(rk.y.copy())\n",
    "\n",
    "    # Print the time every 5000 steps\n",
    "    if i % 1000 == 0:\n",
    "        print(f\"step={i}, time={rk.t / siay} yrs, step={(rk.t - t_history[-2]) / siay}\")\n",
    "    # if i % 500 == 0:\n",
    "    #     print(f\"step={i}, time={rk.t / siay} yrs, step={(rk.t - t_history[-2]) / siay}\")\n",
    "    #     plot_system_state(rk.t, state.calc(rk.t, rk.y))#, xlim=[-21000, -14000])\n",
    "\n",
    "    if rk.t > max_T:\n",
    "        break\n",
    "\n",
    "y_history = np.array(y_history)\n",
    "t_history = np.array(t_history)"
   ]
  },
  {
   "cell_type": "markdown",
   "id": "287dc8a3",
   "metadata": {},
   "source": [
    "## Plotting the results"
   ]
  },
  {
   "cell_type": "markdown",
   "id": "3ff3ae03",
   "metadata": {},
   "source": [
    "Now that we've solved for 1000 years of fault slip evolution, let's plot some of the results. I'll start with a super simple plot of the maximum log slip rate over time."
   ]
  },
  {
   "cell_type": "code",
   "execution_count": null,
   "id": "276f7b20",
   "metadata": {},
   "outputs": [],
   "source": [
    "derivs_history = np.diff(y_history, axis=0) / np.diff(t_history)[:, None]\n",
    "max_vel = np.max(np.abs(derivs_history), axis=1)\n",
    "plt.plot(t_history[1:] / siay, np.log10(max_vel))\n",
    "plt.xlabel('$t ~~ \\mathrm{(yrs)}$')\n",
    "plt.ylabel('$\\log_{10}(V)$')\n",
    "plt.show()"
   ]
  },
  {
   "cell_type": "markdown",
   "id": "968fadc7",
   "metadata": {},
   "source": [
    "And next, we'll make the classic plot showing the spatial distribution of slip over time:\n",
    "- the blue lines show interseismic slip evolution and are plotted every fifteen years\n",
    "- the red lines show evolution during rupture every three seconds."
   ]
  },
  {
   "cell_type": "code",
   "execution_count": null,
   "id": "6ad93ec2",
   "metadata": {},
   "outputs": [],
   "source": [
    "plt.figure(figsize=(10, 4))\n",
    "last_plt_t = -1000\n",
    "last_plt_slip = init_slip_deficit\n",
    "event_times = []\n",
    "for i in range(len(y_history) - 1):\n",
    "    y = y_history[i]\n",
    "    t = t_history[i]\n",
    "    slip_deficit = y[: init_slip_deficit.shape[0]]\n",
    "    should_plot = False\n",
    "\n",
    "    # Plot a red line every three second if the slip rate is over 0.1 mm/s.\n",
    "    if (\n",
    "        max_vel[i] >= 0.0001 and t - last_plt_t > 3\n",
    "    ):\n",
    "        if len(event_times) == 0 or t - event_times[-1] > siay:\n",
    "            event_times.append(t)\n",
    "        should_plot = True\n",
    "        color = \"r\"\n",
    "\n",
    "    # Plot a blue line every fifteen years during the interseismic period\n",
    "    if t - last_plt_t > 15 * siay:\n",
    "        should_plot = True\n",
    "        color = \"b\"\n",
    "\n",
    "    if should_plot:\n",
    "        # Convert from slip deficit to slip:\n",
    "        slip = -slip_deficit + Vp * t\n",
    "        plt.plot(slip, fd / 1000.0, color + \"-\", linewidth=0.5)\n",
    "        last_plt_t = t\n",
    "        last_plt_slip = slip\n",
    "plt.xlim([0, np.max(last_plt_slip)])\n",
    "plt.ylim([-40, 0])\n",
    "plt.ylabel(r\"$\\textrm{z (km)}$\")\n",
    "plt.xlabel(r\"$\\textrm{slip (m)}$\")\n",
    "plt.tight_layout()\n",
    "plt.savefig(\"halfspace.png\", dpi=300)\n",
    "plt.show()"
   ]
  },
  {
   "cell_type": "markdown",
   "id": "6ddee225",
   "metadata": {},
   "source": [
    "And a plot of recurrence interval:"
   ]
  },
  {
   "cell_type": "code",
   "execution_count": null,
   "id": "4f9e1d4e",
   "metadata": {},
   "outputs": [],
   "source": [
    "plt.title(\"Recurrence interval\")\n",
    "plt.plot(np.diff(event_times) / siay, \"k-*\")\n",
    "plt.xticks(np.arange(0, 10, 1))\n",
    "plt.yticks(np.arange(75, 80, 0.5))\n",
    "plt.xlabel(\"Event number\")\n",
    "plt.ylabel(\"Time between events (yr)\")\n",
    "plt.show()"
   ]
  },
  {
   "cell_type": "markdown",
   "id": "8346a128",
   "metadata": {},
   "source": [
    "## Comparison against SCEC SEAS results"
   ]
  },
  {
   "cell_type": "code",
   "execution_count": null,
   "id": "f2d009e5",
   "metadata": {},
   "outputs": [],
   "source": [
    "ozawa_data = np.loadtxt(\"ozawa7500.txt\")\n",
    "ozawa_slip_rate = 10 ** ozawa_data[:, 2]\n",
    "ozawa_stress = ozawa_data[:, 3]"
   ]
  },
  {
   "cell_type": "code",
   "execution_count": null,
   "id": "4386e8ea",
   "metadata": {},
   "outputs": [],
   "source": [
    "t_start_idx = np.argmax(max_vel > 1e-4)\n",
    "t_end_idx = np.argmax(max_vel[t_start_idx:] < 1e-6)\n",
    "n_steps = t_end_idx - t_start_idx\n",
    "t_chunk = t_history[t_start_idx : t_end_idx]"
   ]
  },
  {
   "cell_type": "code",
   "execution_count": null,
   "id": "8eacbd03",
   "metadata": {},
   "outputs": [],
   "source": [
    "shear_chunk = []\n",
    "slip_rate_chunk = []\n",
    "for i in range(n_steps):\n",
    "    system_state = SystemState().calc(t_history[t_start_idx + i], y_history[t_start_idx + i])\n",
    "    slip_deficit, state, delta_sigma_qs, sigma_qs, delta_tau_qs, tau_qs, V, slip_deficit_rate, dstatedt = system_state\n",
    "    shear_chunk.append((tau_qs - mp.eta * V))\n",
    "    slip_rate_chunk.append(V)\n",
    "shear_chunk = np.array(shear_chunk)\n",
    "slip_rate_chunk = np.array(slip_rate_chunk)"
   ]
  },
  {
   "cell_type": "code",
   "execution_count": null,
   "id": "113db994",
   "metadata": {},
   "outputs": [],
   "source": [
    "fault_idx = np.argmax((-7450 > fd) & (fd > -7550))\n",
    "VAvg = np.mean(slip_rate_chunk[:, fault_idx:(fault_idx+2)], axis=1)\n",
    "SAvg = np.mean(shear_chunk[:, fault_idx:(fault_idx+2)], axis=1)"
   ]
  },
  {
   "cell_type": "code",
   "execution_count": null,
   "id": "8efc7461",
   "metadata": {},
   "outputs": [],
   "source": [
    "fault_idx"
   ]
  },
  {
   "cell_type": "code",
   "execution_count": null,
   "id": "2b252331",
   "metadata": {},
   "outputs": [],
   "source": [
    "t_align = t_chunk[np.argmax(VAvg > 0.2)]\n",
    "ozawa_t_align = np.argmax(ozawa_slip_rate > 0.2)\n",
    "\n",
    "for lims in [(-1, 1), (-15, 30)]:\n",
    "    plt.figure(figsize=(12, 8))\n",
    "    plt.subplot(2, 1, 1)\n",
    "    plt.plot(t_chunk - t_align, SAvg / 1e6, \"k-o\", markersize=0.5, linewidth=0.5, label='here')\n",
    "    plt.plot(\n",
    "        ozawa_data[:, 0] - ozawa_data[ozawa_t_align, 0],\n",
    "        ozawa_stress,\n",
    "        \"b-*\",\n",
    "        markersize=0.5,\n",
    "        linewidth=0.5,\n",
    "        label='ozawa'\n",
    "    )\n",
    "    plt.legend()\n",
    "    plt.xlim(lims)\n",
    "    plt.xlabel(\"Time (s)\")\n",
    "    plt.ylabel(\"Shear Stress (MPa)\")\n",
    "    # plt.show()\n",
    "\n",
    "    plt.subplot(2, 1, 2)\n",
    "    plt.plot(t_chunk - t_align, VAvg, \"k-o\", markersize=0.5, linewidth=0.5, label='here')\n",
    "    plt.plot(\n",
    "        ozawa_data[:, 0] - ozawa_data[ozawa_t_align, 0],\n",
    "        ozawa_slip_rate[:],\n",
    "        \"b-*\",\n",
    "        markersize=0.5,\n",
    "        linewidth=0.5,\n",
    "        label='ozawa'\n",
    "    )\n",
    "    plt.legend()\n",
    "    plt.xlim(lims)\n",
    "    plt.xlabel(\"Time (s)\")\n",
    "    plt.ylabel(\"Slip rate (m/s)\")\n",
    "    plt.tight_layout()\n",
    "    plt.show()"
   ]
  }
 ],
 "metadata": {
  "jupytext": {
   "formats": "ipynb,md:myst"
  },
  "kernelspec": {
   "display_name": "Python 3",
   "language": "python",
   "name": "python3"
  },
  "language_info": {
   "codemirror_mode": {
    "name": "ipython",
    "version": 3
   },
   "file_extension": ".py",
   "mimetype": "text/x-python",
   "name": "python",
   "nbconvert_exporter": "python",
   "pygments_lexer": "ipython3",
   "version": "3.9.7"
  }
 },
 "nbformat": 4,
 "nbformat_minor": 5
}
