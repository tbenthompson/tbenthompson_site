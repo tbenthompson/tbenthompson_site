{
 "cells": [
  {
   "cell_type": "markdown",
   "metadata": {},
   "source": [
    "I had a run in with a sneaky feature of the Linux kernel recently.\n",
    "\n",
    "I've recently learned about using file backed shared memory with mmap to do efficient interprocess communication. At the most basic level, you share data between two processes by writing that data to a file. The file can be made to look a lot like a normal region of memory using `mmap`, a system call, and can be shared between multiple processes by giving `mmap` the `MAP_SHARED` flag. There's a downside though, in that the data has to synced to the hard drive continuously. So, instead of sharing a file that is written to disk, I discovered that you can share a file on a RAM disk -- just a filesystem that is backed by RAM. On Linux, a large `tmpfs` RAM disk filesystem is often mounted by default at `/dev/shm`. \n",
    "\n",
    "Here's some python that creates a NumPy array with `mmap`. First, let's get set up..."
   ]
  },
  {
   "cell_type": "code",
   "execution_count": 18,
   "metadata": {},
   "outputs": [],
   "source": [
    "import os\n",
    "import mmap\n",
    "n = int(1e7)\n",
    "nb = 8 * n\n",
    "filename = '/dev/shm/abc'"
   ]
  },
  {
   "cell_type": "markdown",
   "metadata": {},
   "source": [
    "Next, we need to make sure that the file is the correct size using `ftruncate`."
   ]
  },
  {
   "cell_type": "code",
   "execution_count": 19,
   "metadata": {},
   "outputs": [],
   "source": [
    "with open(filename, 'w+b') as f:\n",
    "    os.ftruncate(f.fileno(), nb)"
   ]
  },
  {
   "cell_type": "markdown",
   "metadata": {},
   "source": [
    "Finally, we re-open the file and memory map it into a numpy array."
   ]
  },
  {
   "cell_type": "code",
   "execution_count": 20,
   "metadata": {},
   "outputs": [],
   "source": [
    "with open(filename, 'r+b') as f:\n",
    "    mem = mmap.mmap(f.fileno(), nb)\n",
    "\n",
    "x = np.frombuffer(mem, dtype = np.float64)"
   ]
  },
  {
   "cell_type": "markdown",
   "metadata": {},
   "source": [
    "And for kicks, we'll stick some random numbers in there..."
   ]
  },
  {
   "cell_type": "code",
   "execution_count": 21,
   "metadata": {},
   "outputs": [],
   "source": [
    "x[:] = np.random.rand(n)"
   ]
  },
  {
   "cell_type": "code",
   "execution_count": 14,
   "metadata": {},
   "outputs": [
    {
     "name": "stdout",
     "output_type": "stream",
     "text": [
      "[ 0.30776649  0.24729838  0.76964428 ...,  0.34941941  0.89392064  0.7517981 ]\n"
     ]
    }
   ],
   "source": [
    "print(x)"
   ]
  }
 ],
 "metadata": {
  "front-matter": {
   "date": "2018-01-17",
   "subtitle": "Generic subtitle",
   "title": "Sneaky huge pages"
  },
  "hugo-jupyter": {
   "render-to": "content/post/"
  },
  "kernelspec": {
   "display_name": "Python 3",
   "language": "python",
   "name": "python3"
  },
  "language_info": {
   "codemirror_mode": {
    "name": "ipython",
    "version": 3
   },
   "file_extension": ".py",
   "mimetype": "text/x-python",
   "name": "python",
   "nbconvert_exporter": "python",
   "pygments_lexer": "ipython3",
   "version": "3.5.3"
  }
 },
 "nbformat": 4,
 "nbformat_minor": 2
}
